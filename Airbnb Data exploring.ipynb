{
 "cells": [
  {
   "cell_type": "markdown",
   "id": "4cc28874-5240-4b6a-b3f2-1b6ed212a4a9",
   "metadata": {
    "tags": []
   },
   "source": [
    "### Importing libraries & reading dataset"
   ]
  },
  {
   "cell_type": "code",
   "execution_count": 86,
   "id": "335cf450-31af-431d-bbc9-5a3d480f37b4",
   "metadata": {},
   "outputs": [],
   "source": [
    "import numpy as np\n",
    "import pandas as pd\n",
    "import matplotlib as mpl\n",
    "import matplotlib.pyplot as plt\n",
    "import seaborn as sns"
   ]
  },
  {
   "cell_type": "code",
   "execution_count": 87,
   "id": "6d1b2ae5-d7ed-4d6f-8771-ef72efc04783",
   "metadata": {},
   "outputs": [
    {
     "name": "stderr",
     "output_type": "stream",
     "text": [
      "/Users/tobiasgrassani/opt/anaconda3/lib/python3.9/site-packages/IPython/core/interactiveshell.py:3444: DtypeWarning: Columns (5,13) have mixed types.Specify dtype option on import or set low_memory=False.\n",
      "  exec(code_obj, self.user_global_ns, self.user_ns)\n"
     ]
    }
   ],
   "source": [
    "df = pd.read_csv('/Users/tobiasgrassani/Documents/GitHub/Codehouse - DatasScience/Dataset/Listings.csv', encoding='ptcp154')"
   ]
  },
  {
   "cell_type": "code",
   "execution_count": 88,
   "id": "1adc588b-6f57-435d-ae27-d7f77e6d6754",
   "metadata": {},
   "outputs": [],
   "source": [
    "# df = pd.read_csv('Listings.csv', encoding='ptcp154')"
   ]
  },
  {
   "cell_type": "markdown",
   "id": "5f41d110-0208-42ab-9810-1f5cd10bfa36",
   "metadata": {
    "tags": []
   },
   "source": [
    "### Cleaning & Analyzing data"
   ]
  },
  {
   "cell_type": "markdown",
   "id": "5be6ab4a-fbf5-4af5-8657-af22f22fb8b9",
   "metadata": {
    "tags": []
   },
   "source": [
    "#### > <font color='LightSeaGreen'>Let's analyze it</font>"
   ]
  },
  {
   "cell_type": "code",
   "execution_count": 89,
   "id": "3121e645-00ab-4274-adc4-ec5cd0e1f0e7",
   "metadata": {},
   "outputs": [
    {
     "data": {
      "text/plain": [
       "(279712, 33)"
      ]
     },
     "execution_count": 89,
     "metadata": {},
     "output_type": "execute_result"
    }
   ],
   "source": [
    "df.shape"
   ]
  },
  {
   "cell_type": "code",
   "execution_count": 90,
   "id": "6269e0b8-81c5-4bbf-9ec7-8cc390b71c08",
   "metadata": {
    "tags": []
   },
   "outputs": [
    {
     "name": "stdout",
     "output_type": "stream",
     "text": [
      "<class 'pandas.core.frame.DataFrame'>\n",
      "RangeIndex: 279712 entries, 0 to 279711\n",
      "Data columns (total 33 columns):\n",
      " #   Column                       Non-Null Count   Dtype  \n",
      "---  ------                       --------------   -----  \n",
      " 0   listing_id                   279712 non-null  int64  \n",
      " 1   name                         279539 non-null  object \n",
      " 2   host_id                      279712 non-null  int64  \n",
      " 3   host_since                   279547 non-null  object \n",
      " 4   host_location                278872 non-null  object \n",
      " 5   host_response_time           150930 non-null  object \n",
      " 6   host_response_rate           150930 non-null  float64\n",
      " 7   host_acceptance_rate         166625 non-null  float64\n",
      " 8   host_is_superhost            279547 non-null  object \n",
      " 9   host_total_listings_count    279547 non-null  float64\n",
      " 10  host_has_profile_pic         279547 non-null  object \n",
      " 11  host_identity_verified       279547 non-null  object \n",
      " 12  neighbourhood                279712 non-null  object \n",
      " 13  district                     37012 non-null   object \n",
      " 14  city                         279712 non-null  object \n",
      " 15  latitude                     279712 non-null  float64\n",
      " 16  longitude                    279712 non-null  float64\n",
      " 17  property_type                279712 non-null  object \n",
      " 18  room_type                    279712 non-null  object \n",
      " 19  accommodates                 279712 non-null  int64  \n",
      " 20  bedrooms                     250277 non-null  float64\n",
      " 21  amenities                    279712 non-null  object \n",
      " 22  price                        279712 non-null  int64  \n",
      " 23  minimum_nights               279712 non-null  int64  \n",
      " 24  maximum_nights               279712 non-null  int64  \n",
      " 25  review_scores_rating         188307 non-null  float64\n",
      " 26  review_scores_accuracy       187999 non-null  float64\n",
      " 27  review_scores_cleanliness    188047 non-null  float64\n",
      " 28  review_scores_checkin        187941 non-null  float64\n",
      " 29  review_scores_communication  188025 non-null  float64\n",
      " 30  review_scores_location       187937 non-null  float64\n",
      " 31  review_scores_value          187927 non-null  float64\n",
      " 32  instant_bookable             279712 non-null  object \n",
      "dtypes: float64(13), int64(6), object(14)\n",
      "memory usage: 70.4+ MB\n"
     ]
    }
   ],
   "source": [
    "df.info()"
   ]
  },
  {
   "cell_type": "markdown",
   "id": "c865f4dd-ac8e-4cd5-aa5d-e1b92cd2376d",
   "metadata": {},
   "source": [
    "Conclusion: the columns 'district','host_response_time','host_response_rate','host_acceptance_rate' makes the job difficultier, so i decided to pop them.\n"
   ]
  },
  {
   "cell_type": "markdown",
   "id": "5493dbe4-5c89-47d5-ab25-1409c0550e5d",
   "metadata": {
    "tags": []
   },
   "source": [
    "#### > <font color='LightSeaGreen'>Now let's clean it</font>"
   ]
  },
  {
   "cell_type": "markdown",
   "id": "8cf5afee-0556-41d9-af61-a82bb5941d5c",
   "metadata": {
    "tags": []
   },
   "source": [
    "##### Clean: Poping few useless columns"
   ]
  },
  {
   "cell_type": "code",
   "execution_count": 91,
   "id": "afde048d-38d0-482b-8f27-d1fcc54bcd06",
   "metadata": {},
   "outputs": [
    {
     "data": {
      "text/plain": [
       "0        NaN\n",
       "1        NaN\n",
       "2        NaN\n",
       "3        NaN\n",
       "4        NaN\n",
       "          ..\n",
       "279707   NaN\n",
       "279708   NaN\n",
       "279709   NaN\n",
       "279710   NaN\n",
       "279711   NaN\n",
       "Name: host_acceptance_rate, Length: 279712, dtype: float64"
      ]
     },
     "execution_count": 91,
     "metadata": {},
     "output_type": "execute_result"
    }
   ],
   "source": [
    "df.pop('district')\n",
    "df.pop('host_response_time')\n",
    "df.pop('host_response_rate')\n",
    "df.pop('host_acceptance_rate')"
   ]
  },
  {
   "cell_type": "code",
   "execution_count": 92,
   "id": "07c9a0ac-306f-4aa6-ab46-1b835bf12d8b",
   "metadata": {},
   "outputs": [
    {
     "name": "stdout",
     "output_type": "stream",
     "text": [
      "<class 'pandas.core.frame.DataFrame'>\n",
      "RangeIndex: 279712 entries, 0 to 279711\n",
      "Data columns (total 29 columns):\n",
      " #   Column                       Non-Null Count   Dtype  \n",
      "---  ------                       --------------   -----  \n",
      " 0   listing_id                   279712 non-null  int64  \n",
      " 1   name                         279539 non-null  object \n",
      " 2   host_id                      279712 non-null  int64  \n",
      " 3   host_since                   279547 non-null  object \n",
      " 4   host_location                278872 non-null  object \n",
      " 5   host_is_superhost            279547 non-null  object \n",
      " 6   host_total_listings_count    279547 non-null  float64\n",
      " 7   host_has_profile_pic         279547 non-null  object \n",
      " 8   host_identity_verified       279547 non-null  object \n",
      " 9   neighbourhood                279712 non-null  object \n",
      " 10  city                         279712 non-null  object \n",
      " 11  latitude                     279712 non-null  float64\n",
      " 12  longitude                    279712 non-null  float64\n",
      " 13  property_type                279712 non-null  object \n",
      " 14  room_type                    279712 non-null  object \n",
      " 15  accommodates                 279712 non-null  int64  \n",
      " 16  bedrooms                     250277 non-null  float64\n",
      " 17  amenities                    279712 non-null  object \n",
      " 18  price                        279712 non-null  int64  \n",
      " 19  minimum_nights               279712 non-null  int64  \n",
      " 20  maximum_nights               279712 non-null  int64  \n",
      " 21  review_scores_rating         188307 non-null  float64\n",
      " 22  review_scores_accuracy       187999 non-null  float64\n",
      " 23  review_scores_cleanliness    188047 non-null  float64\n",
      " 24  review_scores_checkin        187941 non-null  float64\n",
      " 25  review_scores_communication  188025 non-null  float64\n",
      " 26  review_scores_location       187937 non-null  float64\n",
      " 27  review_scores_value          187927 non-null  float64\n",
      " 28  instant_bookable             279712 non-null  object \n",
      "dtypes: float64(11), int64(6), object(12)\n",
      "memory usage: 61.9+ MB\n"
     ]
    }
   ],
   "source": [
    "df.info()"
   ]
  },
  {
   "cell_type": "markdown",
   "id": "a369d610-d0de-43b3-aadd-9458068ed0d6",
   "metadata": {},
   "source": [
    "Conclusion: After poping the columns, i proceed to clean NaN-value rows. "
   ]
  },
  {
   "cell_type": "markdown",
   "id": "d31e5214-f2f1-4757-8f99-b883f7b3a0b9",
   "metadata": {
    "tags": []
   },
   "source": [
    "##### Clean: Droping all NaN rows left & index reset"
   ]
  },
  {
   "cell_type": "code",
   "execution_count": 93,
   "id": "ab24070e-2cbc-4f8d-aae5-4542e8c2233e",
   "metadata": {},
   "outputs": [],
   "source": [
    "df = df.dropna()\n",
    "df = df.reset_index(drop=True)"
   ]
  },
  {
   "cell_type": "code",
   "execution_count": 94,
   "id": "a7413c16-ac37-4c21-bbf5-856d8c6fd1a0",
   "metadata": {},
   "outputs": [
    {
     "name": "stdout",
     "output_type": "stream",
     "text": [
      "<class 'pandas.core.frame.DataFrame'>\n",
      "RangeIndex: 167686 entries, 0 to 167685\n",
      "Data columns (total 29 columns):\n",
      " #   Column                       Non-Null Count   Dtype  \n",
      "---  ------                       --------------   -----  \n",
      " 0   listing_id                   167686 non-null  int64  \n",
      " 1   name                         167686 non-null  object \n",
      " 2   host_id                      167686 non-null  int64  \n",
      " 3   host_since                   167686 non-null  object \n",
      " 4   host_location                167686 non-null  object \n",
      " 5   host_is_superhost            167686 non-null  object \n",
      " 6   host_total_listings_count    167686 non-null  float64\n",
      " 7   host_has_profile_pic         167686 non-null  object \n",
      " 8   host_identity_verified       167686 non-null  object \n",
      " 9   neighbourhood                167686 non-null  object \n",
      " 10  city                         167686 non-null  object \n",
      " 11  latitude                     167686 non-null  float64\n",
      " 12  longitude                    167686 non-null  float64\n",
      " 13  property_type                167686 non-null  object \n",
      " 14  room_type                    167686 non-null  object \n",
      " 15  accommodates                 167686 non-null  int64  \n",
      " 16  bedrooms                     167686 non-null  float64\n",
      " 17  amenities                    167686 non-null  object \n",
      " 18  price                        167686 non-null  int64  \n",
      " 19  minimum_nights               167686 non-null  int64  \n",
      " 20  maximum_nights               167686 non-null  int64  \n",
      " 21  review_scores_rating         167686 non-null  float64\n",
      " 22  review_scores_accuracy       167686 non-null  float64\n",
      " 23  review_scores_cleanliness    167686 non-null  float64\n",
      " 24  review_scores_checkin        167686 non-null  float64\n",
      " 25  review_scores_communication  167686 non-null  float64\n",
      " 26  review_scores_location       167686 non-null  float64\n",
      " 27  review_scores_value          167686 non-null  float64\n",
      " 28  instant_bookable             167686 non-null  object \n",
      "dtypes: float64(11), int64(6), object(12)\n",
      "memory usage: 37.1+ MB\n"
     ]
    }
   ],
   "source": [
    "df.info()"
   ]
  },
  {
   "cell_type": "markdown",
   "id": "1b8f4165-7a06-4a83-b5e8-7df55afb661a",
   "metadata": {
    "tags": []
   },
   "source": [
    "##### Results of cleaning"
   ]
  },
  {
   "cell_type": "code",
   "execution_count": 95,
   "id": "676c9a8b-79cf-498b-baf9-0d177eabeed6",
   "metadata": {},
   "outputs": [
    {
     "data": {
      "text/plain": [
       "(167686, 29)"
      ]
     },
     "execution_count": 95,
     "metadata": {},
     "output_type": "execute_result"
    }
   ],
   "source": [
    "df.shape"
   ]
  },
  {
   "cell_type": "code",
   "execution_count": 96,
   "id": "c4045092-82b4-46cf-9d19-8a6d20b6c6cd",
   "metadata": {},
   "outputs": [
    {
     "data": {
      "text/plain": [
       "['listing_id',\n",
       " 'name',\n",
       " 'host_id',\n",
       " 'host_since',\n",
       " 'host_location',\n",
       " 'host_is_superhost',\n",
       " 'host_total_listings_count',\n",
       " 'host_has_profile_pic',\n",
       " 'host_identity_verified',\n",
       " 'neighbourhood',\n",
       " 'city',\n",
       " 'latitude',\n",
       " 'longitude',\n",
       " 'property_type',\n",
       " 'room_type',\n",
       " 'accommodates',\n",
       " 'bedrooms',\n",
       " 'amenities',\n",
       " 'price',\n",
       " 'minimum_nights',\n",
       " 'maximum_nights',\n",
       " 'review_scores_rating',\n",
       " 'review_scores_accuracy',\n",
       " 'review_scores_cleanliness',\n",
       " 'review_scores_checkin',\n",
       " 'review_scores_communication',\n",
       " 'review_scores_location',\n",
       " 'review_scores_value',\n",
       " 'instant_bookable']"
      ]
     },
     "execution_count": 96,
     "metadata": {},
     "output_type": "execute_result"
    }
   ],
   "source": [
    "list(df.columns)"
   ]
  },
  {
   "cell_type": "markdown",
   "id": "73b44ce7-c76b-4b01-a451-5d5337ce1f9d",
   "metadata": {},
   "source": [
    "Now we have a clean dataset."
   ]
  },
  {
   "cell_type": "markdown",
   "id": "33ead10f-b55d-444f-b10c-072dac2be6ea",
   "metadata": {
    "tags": []
   },
   "source": [
    "### Creating Masks"
   ]
  },
  {
   "cell_type": "markdown",
   "id": "25433ee1-cd7f-44de-8179-47c04587d316",
   "metadata": {
    "tags": []
   },
   "source": [
    "#### > <font color='LightSeaGreen'>New York</font>"
   ]
  },
  {
   "cell_type": "code",
   "execution_count": 97,
   "id": "32658314-8f1e-48d8-bc52-393e02f976a2",
   "metadata": {},
   "outputs": [],
   "source": [
    "df_NY = df['city'] == 'New York'\n",
    "df_NY = df[df_NY]"
   ]
  },
  {
   "cell_type": "markdown",
   "id": "edb07d82-1038-4481-b9ca-ce1618bc2949",
   "metadata": {
    "tags": []
   },
   "source": [
    "#### > <font color='LightSeaGreen'>Paris</font>"
   ]
  },
  {
   "cell_type": "code",
   "execution_count": 98,
   "id": "f8790914-b20b-4700-95de-4557a7605d70",
   "metadata": {},
   "outputs": [],
   "source": [
    "df_PARIS = df['city'] == 'Paris'\n",
    "df_PARIS = df[df_PARIS]"
   ]
  },
  {
   "cell_type": "markdown",
   "id": "40beb220-5adb-43b1-a490-c0c21647d68e",
   "metadata": {
    "tags": []
   },
   "source": [
    "### Defining Variables"
   ]
  },
  {
   "cell_type": "markdown",
   "id": "0468fecf-8d71-4dfe-8bab-aa089d9e8153",
   "metadata": {},
   "source": [
    "#### > <font color='LightSeaGreen'>New York</font>"
   ]
  },
  {
   "cell_type": "code",
   "execution_count": 99,
   "id": "4e95f3f6-bcb3-48de-876d-2f8709fa3f3a",
   "metadata": {},
   "outputs": [],
   "source": [
    "prices_NY = df_NY['price']\n",
    "overallRating_NY = df_NY['review_scores_rating']\n",
    "accommodates_NY = df_NY['accommodates']\n",
    "bedrooms_NY = df_NY['bedrooms']"
   ]
  },
  {
   "cell_type": "code",
   "execution_count": 100,
   "id": "d7c34949-2fee-43da-948e-c5f615dce52e",
   "metadata": {},
   "outputs": [],
   "source": [
    "prices_NY = df_NY['price']\n"
   ]
  },
  {
   "cell_type": "markdown",
   "id": "b02c24e4-9c59-448b-9a64-9eabaf641803",
   "metadata": {},
   "source": [
    "#### > <font color='LightSeaGreen'>Paris</font>"
   ]
  },
  {
   "cell_type": "code",
   "execution_count": 101,
   "id": "3de92b71-5354-4f2a-808b-d4efcc523aa7",
   "metadata": {},
   "outputs": [],
   "source": [
    "prices_PARIS = df_PARIS['price']\n",
    "overallRating_PARIS = df_PARIS['review_scores_rating']\n",
    "accommodates_PARIS = df_PARIS['accommodates']\n",
    "bedrooms_PARIS = df_PARIS['bedrooms']"
   ]
  },
  {
   "cell_type": "markdown",
   "id": "4f95aedb-a449-4714-a6df-013c7f0e7403",
   "metadata": {
    "tags": []
   },
   "source": [
    "### Exploring data"
   ]
  },
  {
   "cell_type": "markdown",
   "id": "4ad54345-0a41-4a0a-ba08-dc0944f7984b",
   "metadata": {
    "tags": []
   },
   "source": [
    "#### > <font color='LightSeaGreen'>Correlations</font>"
   ]
  },
  {
   "cell_type": "code",
   "execution_count": 102,
   "id": "b6e6debe-e9e9-4cc1-a573-8c15086abe3a",
   "metadata": {},
   "outputs": [],
   "source": [
    "df.corr()\n",
    "corr = df.corr()"
   ]
  },
  {
   "cell_type": "code",
   "execution_count": 103,
   "id": "5ae4c6a4-e7e7-4243-abce-9dc94368ced5",
   "metadata": {},
   "outputs": [
    {
     "data": {
      "image/png": "[encoded data removed]",
      "text/plain": [
       "<Figure size 432x288 with 2 Axes>"
      ]
     },
     "metadata": {
      "needs_background": "light"
     },
     "output_type": "display_data"
    }
   ],
   "source": [
    "sns.heatmap(corr, cbar = True,  square = True, annot=True, fmt= '.2f',annot_kws={'size': 5},\n",
    "           cmap= 'coolwarm')\n",
    "plt.show()"
   ]
  },
  {
   "cell_type": "markdown",
   "id": "ffb05258-b9fc-4daa-9417-2f5af211a29e",
   "metadata": {},
   "source": [
    "Conclusion relevante: \n",
    "- ['acommodates'] & ['bedrooms'] are 0.68 correlative\n",
    "- all of ['review_scores_...'] are above 0.5 of correlation"
   ]
  },
  {
   "cell_type": "markdown",
   "id": "264fef3a-fe14-47a8-a1e9-4d4d73f1677b",
   "metadata": {
    "jp-MarkdownHeadingCollapsed": true,
    "tags": []
   },
   "source": [
    "#### > <font color='LightSeaGreen'>Mean, Median & Mode</font>"
   ]
  },
  {
   "cell_type": "code",
   "execution_count": 104,
   "id": "f3549127-54bd-491c-9f9e-daceba15204d",
   "metadata": {},
   "outputs": [
    {
     "data": {
      "text/plain": [
       "0    Paris\n",
       "dtype: object"
      ]
     },
     "execution_count": 104,
     "metadata": {},
     "output_type": "execute_result"
    }
   ],
   "source": [
    "df[\"city\"].mode()"
   ]
  },
  {
   "cell_type": "code",
   "execution_count": 105,
   "id": "963cb9f6-dafa-4d95-be5e-a226d4777f20",
   "metadata": {},
   "outputs": [
    {
     "data": {
      "text/plain": [
       "135.00841206696504"
      ]
     },
     "execution_count": 105,
     "metadata": {},
     "output_type": "execute_result"
    }
   ],
   "source": [
    "df_NY[\"price\"].mean()"
   ]
  },
  {
   "cell_type": "code",
   "execution_count": 106,
   "id": "beee2afc-8b90-400f-9a53-aafe81204a3e",
   "metadata": {},
   "outputs": [
    {
     "data": {
      "text/plain": [
       "117.33904028279737"
      ]
     },
     "execution_count": 106,
     "metadata": {},
     "output_type": "execute_result"
    }
   ],
   "source": [
    "df_PARIS[\"price\"].mean()"
   ]
  },
  {
   "cell_type": "code",
   "execution_count": 107,
   "id": "d39dfa2d-c0eb-4eb2-acaa-69a8c1df0d3b",
   "metadata": {},
   "outputs": [
    {
     "data": {
      "text/plain": [
       "1.3087601524946129"
      ]
     },
     "execution_count": 107,
     "metadata": {},
     "output_type": "execute_result"
    }
   ],
   "source": [
    "df_NY[\"bedrooms\"].mean()"
   ]
  },
  {
   "cell_type": "code",
   "execution_count": 108,
   "id": "324bef2c-fdbd-4edb-a944-368b1b257578",
   "metadata": {},
   "outputs": [
    {
     "data": {
      "text/plain": [
       "1.3599862822170048"
      ]
     },
     "execution_count": 108,
     "metadata": {},
     "output_type": "execute_result"
    }
   ],
   "source": [
    "df_PARIS[\"bedrooms\"].mean()"
   ]
  },
  {
   "cell_type": "markdown",
   "id": "54e95563-6297-4582-9b6e-44565a95afd4",
   "metadata": {
    "jp-MarkdownHeadingCollapsed": true,
    "tags": []
   },
   "source": [
    "#### > <font color='LightSeaGreen'>New York Prices Mask: Applying Interquartil Ranges - IQR</font>"
   ]
  },
  {
   "cell_type": "code",
   "execution_count": 109,
   "id": "0c0e8436-a3b4-40e4-86af-c573fcc3de56",
   "metadata": {},
   "outputs": [
    {
     "name": "stdout",
     "output_type": "stream",
     "text": [
      "New York Prices IQR:  90.0\n",
      "Quartile Desviation:  45.0\n"
     ]
    }
   ],
   "source": [
    "Q1 = np.percentile(prices_NY, 25, interpolation = 'midpoint')\n",
    "Q3 = np.percentile(prices_NY, 75, interpolation = 'midpoint')\n",
    "IQR = Q3 - Q1\n",
    "QD = IQR/2\n",
    "print(\"New York Prices IQR: \",IQR)\n",
    "print(\"Quartile Desviation: \",QD)"
   ]
  },
  {
   "cell_type": "code",
   "execution_count": 110,
   "id": "d784d9ec-2430-438e-bece-e92a9404d4ef",
   "metadata": {},
   "outputs": [
    {
     "data": {
      "text/plain": [
       "count    22569.000000\n",
       "mean       104.042005\n",
       "std         57.978680\n",
       "min         10.000000\n",
       "25%         59.000000\n",
       "50%         90.000000\n",
       "75%        140.000000\n",
       "max        285.000000\n",
       "Name: price, dtype: float64"
      ]
     },
     "execution_count": 110,
     "metadata": {},
     "output_type": "execute_result"
    }
   ],
   "source": [
    "prices_NY = prices_NY[~((prices_NY<(Q1-1.5*IQR)) | (prices_NY>(Q3+1.5*IQR)))]\n",
    "prices_NY.describe()"
   ]
  },
  {
   "cell_type": "code",
   "execution_count": 141,
   "id": "7d11c52d-ede1-48a4-a678-e10a6761b457",
   "metadata": {},
   "outputs": [
    {
     "data": {
      "image/png": "[encoded data removed]",
      "text/plain": [
       "<Figure size 288x576 with 1 Axes>"
      ]
     },
     "metadata": {
      "needs_background": "light"
     },
     "output_type": "display_data"
    }
   ],
   "source": [
    "fig, ax = plt.subplots(figsize=(4,8))\n",
    "ax.boxplot(prices_NY)\n",
    "ax.set_title('New York Prices with IQR applyed')\n",
    "ax.set_xlabel('New York Airbnb')\n",
    "ax.set_ylabel('Prices')\n",
    "plt.show()"
   ]
  },
  {
   "cell_type": "markdown",
   "id": "ef24658c-402d-4c4a-a064-ad0394509517",
   "metadata": {
    "jp-MarkdownHeadingCollapsed": true,
    "tags": []
   },
   "source": [
    "#### > <font color='LightSeaGreen'>Paris Prices Mask: Applying Interquartil Ranges - IQR</font>"
   ]
  },
  {
   "cell_type": "code",
   "execution_count": 111,
   "id": "b95ad7ad-d525-4343-81cd-95e6da5845e1",
   "metadata": {},
   "outputs": [
    {
     "name": "stdout",
     "output_type": "stream",
     "text": [
      "Paris Prices IQR:  65.0\n",
      "Quartile Desviation:  32.5\n"
     ]
    }
   ],
   "source": [
    "Q1 = np.percentile(prices_PARIS, 25, interpolation = 'midpoint')\n",
    "Q3 = np.percentile(prices_PARIS, 75, interpolation = 'midpoint')\n",
    "IQR = Q3 - Q1\n",
    "QD = IQR/2\n",
    "print(\"Paris Prices IQR: \",IQR)\n",
    "print(\"Quartile Desviation: \",QD)"
   ]
  },
  {
   "cell_type": "code",
   "execution_count": 112,
   "id": "8b8e7c00-80fe-42c2-9925-ad6c7653eb5e",
   "metadata": {},
   "outputs": [
    {
     "data": {
      "text/plain": [
       "count    34929.000000\n",
       "mean        90.878926\n",
       "std         42.235559\n",
       "min          8.000000\n",
       "25%         60.000000\n",
       "50%         81.000000\n",
       "75%        112.000000\n",
       "max        222.000000\n",
       "Name: price, dtype: float64"
      ]
     },
     "execution_count": 112,
     "metadata": {},
     "output_type": "execute_result"
    }
   ],
   "source": [
    "prices_PARIS = prices_PARIS[~((prices_PARIS<(Q1-1.5*IQR)) | (prices_PARIS>(Q3+1.5*IQR)))]\n",
    "prices_PARIS.describe()"
   ]
  },
  {
   "cell_type": "code",
   "execution_count": 140,
   "id": "6b90f56a-020a-4b55-9bcd-d23d76782673",
   "metadata": {},
   "outputs": [
    {
     "data": {
      "image/png": "[encoded data removed]",
      "text/plain": [
       "<Figure size 288x576 with 1 Axes>"
      ]
     },
     "metadata": {
      "needs_background": "light"
     },
     "output_type": "display_data"
    }
   ],
   "source": [
    "fig, ax = plt.subplots(figsize=(4,8))\n",
    "ax.boxplot(prices_PARIS)\n",
    "ax.set_title('Paris Airbnb Prices with IQR applyed')\n",
    "ax.set_xlabel('Paris Airbnb')\n",
    "ax.set_ylabel('Prices')\n",
    "plt.show()"
   ]
  },
  {
   "cell_type": "markdown",
   "id": "5f0a025f-5154-45c6-924e-89e3295f5134",
   "metadata": {
    "tags": []
   },
   "source": [
    "### Plotting"
   ]
  },
  {
   "cell_type": "code",
   "execution_count": 146,
   "id": "5fe620ae-5e6f-4d40-afe3-ba39f65f3f12",
   "metadata": {},
   "outputs": [
    {
     "data": {
      "image/png": "[encoded data removed]",
      "text/plain": [
       "<Figure size 576x576 with 1 Axes>"
      ]
     },
     "metadata": {
      "needs_background": "light"
     },
     "output_type": "display_data"
    }
   ],
   "source": [
    "fix,ax = plt.subplots(figsize=(8,8))\n",
    "columns = [prices_NY, prices_PARIS]\n",
    "ax.boxplot(columns, patch_artist=True, meanline=True, showmeans=True)\n",
    "ax.set_title('New York vs Paris')\n",
    "plt.xticks([1,2],[\"New York\",\"Paris\"])\n",
    "plt.show()"
   ]
  },
  {
   "cell_type": "code",
   "execution_count": 143,
   "id": "8edc627b-c663-47a1-bf57-de81d9bf7146",
   "metadata": {},
   "outputs": [
    {
     "data": {
      "image/png": "[encoded data removed]",
      "text/plain": [
       "<Figure size 432x288 with 1 Axes>"
      ]
     },
     "metadata": {
      "needs_background": "light"
     },
     "output_type": "display_data"
    }
   ],
   "source": [
    "fix, ax = plt.subplots()\n",
    "ax.hist(overallRating_NY,bins=10)\n",
    "ax.set_title('New York Overall Rating Histogram')\n",
    "ax.set_xlabel('Overall Rating')\n",
    "ax.set_ylabel('Absolut Frequency')\n",
    "plt.show()"
   ]
  },
  {
   "cell_type": "code",
   "execution_count": 133,
   "id": "3415e46c-3c50-4d87-9e76-c1c71bf6a59f",
   "metadata": {},
   "outputs": [
    {
     "data": {
      "image/png": "[encoded data removed]",
      "text/plain": [
       "<Figure size 432x288 with 1 Axes>"
      ]
     },
     "metadata": {
      "needs_background": "light"
     },
     "output_type": "display_data"
    }
   ],
   "source": [
    "fix, ax = plt.subplots()\n",
    "ax.hist(overallRating_PARIS,bins=10)\n",
    "ax.set_title('Paris Overall Rating Histogram')\n",
    "ax.set_xlabel('Overall Rating')\n",
    "ax.set_ylabel('Absolut Frequency')\n",
    "plt.show()"
   ]
  },
  {
   "cell_type": "markdown",
   "id": "12b0c15c-2d04-4939-b93d-f997f2c02511",
   "metadata": {
    "tags": []
   },
   "source": [
    "### Ignore: Code testing"
   ]
  },
  {
   "cell_type": "code",
   "execution_count": 116,
   "id": "6db3b418-8c86-464c-a48e-2e748538d8a7",
   "metadata": {},
   "outputs": [
    {
     "data": {
      "text/plain": [
       "<AxesSubplot:>"
      ]
     },
     "execution_count": 116,
     "metadata": {},
     "output_type": "execute_result"
    },
    {
     "data": {
      "image/png": "[encoded data removed]",
      "text/plain": [
       "<Figure size 432x288 with 1 Axes>"
      ]
     },
     "metadata": {
      "needs_background": "light"
     },
     "output_type": "display_data"
    }
   ],
   "source": [
    "df_NY['price'].plot()"
   ]
  },
  {
   "cell_type": "code",
   "execution_count": 117,
   "id": "1324a0dc-069f-42b0-8db5-e7f0a8a0d1a3",
   "metadata": {},
   "outputs": [
    {
     "name": "stdout",
     "output_type": "stream",
     "text": [
      "bedrooms\n",
      "1.0      106.1\n",
      "2.0      200.0\n",
      "3.0      268.4\n",
      "4.0      429.2\n",
      "5.0      587.0\n",
      "6.0      865.0\n",
      "7.0     1271.8\n",
      "8.0      450.2\n",
      "9.0      714.0\n",
      "10.0     150.0\n",
      "11.0      66.0\n",
      "14.0    1661.0\n",
      "21.0     201.0\n",
      "Name: price, dtype: float64\n"
     ]
    }
   ],
   "source": [
    "print(df_NY.groupby('bedrooms')['price'].mean().round(1))"
   ]
  },
  {
   "cell_type": "code",
   "execution_count": 118,
   "id": "49b9c318-78ff-488a-9c5e-52ecedc076c7",
   "metadata": {},
   "outputs": [
    {
     "name": "stdout",
     "output_type": "stream",
     "text": [
      "accommodates\n",
      "1      3619\n",
      "2     10894\n",
      "3      2432\n",
      "4      3851\n",
      "5      1070\n",
      "6      1301\n",
      "7       252\n",
      "8       344\n",
      "9        47\n",
      "10      137\n",
      "11       27\n",
      "12       65\n",
      "13       20\n",
      "14       15\n",
      "15       10\n",
      "16       48\n",
      "Name: city, dtype: int64\n"
     ]
    }
   ],
   "source": [
    "print(df_NY.groupby('accommodates')['city'].count())"
   ]
  },
  {
   "cell_type": "code",
   "execution_count": 119,
   "id": "664ddc9b-8dfe-4d12-9fd2-4e70a6d59631",
   "metadata": {},
   "outputs": [
    {
     "name": "stdout",
     "output_type": "stream",
     "text": [
      "bedrooms\n",
      "1.0       89.8\n",
      "2.0      160.6\n",
      "3.0      243.0\n",
      "4.0      393.0\n",
      "5.0      534.8\n",
      "6.0     1039.4\n",
      "7.0      666.7\n",
      "9.0      460.0\n",
      "12.0     999.0\n",
      "23.0     120.0\n",
      "50.0      49.0\n",
      "Name: price, dtype: float64\n"
     ]
    }
   ],
   "source": [
    "print(df_PARIS.groupby('bedrooms')['price'].mean().round(1))"
   ]
  },
  {
   "cell_type": "code",
   "execution_count": 120,
   "id": "99ca1203-ff77-4326-8135-3bb3192bf345",
   "metadata": {},
   "outputs": [
    {
     "name": "stdout",
     "output_type": "stream",
     "text": [
      "accommodates\n",
      "1      1646\n",
      "2     15906\n",
      "3      3748\n",
      "4     10868\n",
      "5      1836\n",
      "6      2606\n",
      "7       362\n",
      "8       553\n",
      "9        66\n",
      "10      147\n",
      "11       29\n",
      "12       62\n",
      "13       17\n",
      "14       23\n",
      "15       17\n",
      "16       21\n",
      "Name: city, dtype: int64\n"
     ]
    }
   ],
   "source": [
    "print(df_PARIS.groupby('accommodates')['city'].count())"
   ]
  },
  {
   "cell_type": "code",
   "execution_count": 121,
   "id": "faced824-3f7b-4fe0-bcac-ee3a75907b7a",
   "metadata": {},
   "outputs": [
    {
     "data": {
      "text/plain": [
       "24132"
      ]
     },
     "execution_count": 121,
     "metadata": {},
     "output_type": "execute_result"
    }
   ],
   "source": [
    "df_NY['city'].count()"
   ]
  },
  {
   "cell_type": "code",
   "execution_count": 122,
   "id": "ff356ae4-ce98-4e35-9d04-892c8ada5382",
   "metadata": {},
   "outputs": [
    {
     "data": {
      "text/plain": [
       "37907"
      ]
     },
     "execution_count": 122,
     "metadata": {},
     "output_type": "execute_result"
    }
   ],
   "source": [
    "df_PARIS['city'].count()"
   ]
  },
  {
   "cell_type": "code",
   "execution_count": 123,
   "id": "152c77a8-ecc0-475b-b040-0352808b6157",
   "metadata": {},
   "outputs": [
    {
     "data": {
      "text/plain": [
       "167686"
      ]
     },
     "execution_count": 123,
     "metadata": {},
     "output_type": "execute_result"
    }
   ],
   "source": [
    "df['city'].count()"
   ]
  },
  {
   "cell_type": "code",
   "execution_count": 124,
   "id": "c9b40901-6f90-43fe-9049-d3ab1b2bd481",
   "metadata": {},
   "outputs": [
    {
     "data": {
      "text/html": [
       "<div>\n",
       "<style scoped>\n",
       "    .dataframe tbody tr th:only-of-type {\n",
       "        vertical-align: middle;\n",
       "    }\n",
       "\n",
       "    .dataframe tbody tr th {\n",
       "        vertical-align: top;\n",
       "    }\n",
       "\n",
       "    .dataframe thead th {\n",
       "        text-align: right;\n",
       "    }\n",
       "</style>\n",
       "<table border=\"1\" class=\"dataframe\">\n",
       "  <thead>\n",
       "    <tr style=\"text-align: right;\">\n",
       "      <th></th>\n",
       "      <th>bedrooms</th>\n",
       "      <th>price</th>\n",
       "    </tr>\n",
       "  </thead>\n",
       "  <tbody>\n",
       "    <tr>\n",
       "      <th>count</th>\n",
       "      <td>24132.0</td>\n",
       "      <td>24132.0</td>\n",
       "    </tr>\n",
       "    <tr>\n",
       "      <th>mean</th>\n",
       "      <td>1.0</td>\n",
       "      <td>135.0</td>\n",
       "    </tr>\n",
       "    <tr>\n",
       "      <th>std</th>\n",
       "      <td>1.0</td>\n",
       "      <td>252.0</td>\n",
       "    </tr>\n",
       "    <tr>\n",
       "      <th>min</th>\n",
       "      <td>1.0</td>\n",
       "      <td>10.0</td>\n",
       "    </tr>\n",
       "    <tr>\n",
       "      <th>25%</th>\n",
       "      <td>1.0</td>\n",
       "      <td>60.0</td>\n",
       "    </tr>\n",
       "    <tr>\n",
       "      <th>50%</th>\n",
       "      <td>1.0</td>\n",
       "      <td>96.0</td>\n",
       "    </tr>\n",
       "    <tr>\n",
       "      <th>75%</th>\n",
       "      <td>1.0</td>\n",
       "      <td>150.0</td>\n",
       "    </tr>\n",
       "    <tr>\n",
       "      <th>max</th>\n",
       "      <td>21.0</td>\n",
       "      <td>10000.0</td>\n",
       "    </tr>\n",
       "  </tbody>\n",
       "</table>\n",
       "</div>"
      ],
      "text/plain": [
       "       bedrooms    price\n",
       "count   24132.0  24132.0\n",
       "mean        1.0    135.0\n",
       "std         1.0    252.0\n",
       "min         1.0     10.0\n",
       "25%         1.0     60.0\n",
       "50%         1.0     96.0\n",
       "75%         1.0    150.0\n",
       "max        21.0  10000.0"
      ]
     },
     "execution_count": 124,
     "metadata": {},
     "output_type": "execute_result"
    }
   ],
   "source": [
    "df_NY[['bedrooms','price']].describe().round()"
   ]
  },
  {
   "cell_type": "code",
   "execution_count": 125,
   "id": "bbbb96b3-8e16-4b05-bafb-15052114c91e",
   "metadata": {},
   "outputs": [
    {
     "data": {
      "text/plain": [
       "count    22569.000000\n",
       "mean       104.042005\n",
       "std         57.978680\n",
       "min         10.000000\n",
       "25%         59.000000\n",
       "50%         90.000000\n",
       "75%        140.000000\n",
       "max        285.000000\n",
       "Name: price, dtype: float64"
      ]
     },
     "execution_count": 125,
     "metadata": {},
     "output_type": "execute_result"
    }
   ],
   "source": [
    "prices_NY.describe()"
   ]
  },
  {
   "cell_type": "code",
   "execution_count": null,
   "id": "7d4a18f9-0e39-4df7-885c-a4d65cb7561c",
   "metadata": {},
   "outputs": [],
   "source": []
  },
  {
   "cell_type": "code",
   "execution_count": null,
   "id": "4e20e36d-aff7-45ee-9c1a-37197a4c8183",
   "metadata": {},
   "outputs": [],
   "source": []
  }
 ],
 "metadata": {
  "kernelspec": {
   "display_name": "Python 3 (ipykernel)",
   "language": "python",
   "name": "python3"
  },
  "language_info": {
   "codemirror_mode": {
    "name": "ipython",
    "version": 3
   },
   "file_extension": ".py",
   "mimetype": "text/x-python",
   "name": "python",
   "nbconvert_exporter": "python",
   "pygments_lexer": "ipython3",
   "version": "3.9.7"
  }
 },
 "nbformat": 4,
 "nbformat_minor": 5
}
